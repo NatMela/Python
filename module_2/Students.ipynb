{
 "cells": [
  {
   "cell_type": "markdown",
   "metadata": {},
   "source": [
    "<h2>Цель проекта: научиться делать резведывательный анализ данных (EDA).</h2>\n",
    "\n",
    "    \n",
    "<h3>Основные этапы EDA:\n",
    "<ol>    \n",
    "<li> Загрузка данных для анализа и преобразование в удобный для работы формат.</li>\n",
    "<li> Анализ отдельных показателей (числовых и номинативных). Включая проверку на выбросы, наличие пропущенных значений и составление общих выводов о статистических параметрах. При необходимости отбрасывание “плохих” параметров.</li>\n",
    "<li> Проведение базового корреляционного анализа (постренение таблицы кореляций). Выявление праметров наиболее влияющих на целевой параметр. Удаление дублирующихся параметров (имеющих крайнесильную взаимную корреляцию).</li>\n",
    "<li> Проверка статистической значимости параметров против целевого показателя с помощью метода Стьюдента.</li>\n",
    "<li> Составление выводов по результатам EDA.</li>\n",
    "</ol> </h3>"
   ]
  },
  {
   "cell_type": "code",
   "execution_count": 1,
   "metadata": {},
   "outputs": [
    {
     "data": {
      "text/html": [
       "<div>\n",
       "<style scoped>\n",
       "    .dataframe tbody tr th:only-of-type {\n",
       "        vertical-align: middle;\n",
       "    }\n",
       "\n",
       "    .dataframe tbody tr th {\n",
       "        vertical-align: top;\n",
       "    }\n",
       "\n",
       "    .dataframe thead th {\n",
       "        text-align: right;\n",
       "    }\n",
       "</style>\n",
       "<table border=\"1\" class=\"dataframe\">\n",
       "  <thead>\n",
       "    <tr style=\"text-align: right;\">\n",
       "      <th></th>\n",
       "      <th>school</th>\n",
       "      <th>sex</th>\n",
       "      <th>age</th>\n",
       "      <th>address</th>\n",
       "      <th>famsize</th>\n",
       "      <th>Pstatus</th>\n",
       "      <th>Medu</th>\n",
       "      <th>Fedu</th>\n",
       "      <th>Mjob</th>\n",
       "      <th>Fjob</th>\n",
       "      <th>reason</th>\n",
       "      <th>guardian</th>\n",
       "      <th>traveltime</th>\n",
       "      <th>studytime</th>\n",
       "      <th>failures</th>\n",
       "      <th>schoolsup</th>\n",
       "      <th>famsup</th>\n",
       "      <th>paid</th>\n",
       "      <th>activities</th>\n",
       "      <th>nursery</th>\n",
       "      <th>studytime, granular</th>\n",
       "      <th>higher</th>\n",
       "      <th>internet</th>\n",
       "      <th>romantic</th>\n",
       "      <th>famrel</th>\n",
       "      <th>freetime</th>\n",
       "      <th>goout</th>\n",
       "      <th>health</th>\n",
       "      <th>absences</th>\n",
       "      <th>score</th>\n",
       "    </tr>\n",
       "  </thead>\n",
       "  <tbody>\n",
       "    <tr>\n",
       "      <th>0</th>\n",
       "      <td>GP</td>\n",
       "      <td>F</td>\n",
       "      <td>18</td>\n",
       "      <td>U</td>\n",
       "      <td>NaN</td>\n",
       "      <td>A</td>\n",
       "      <td>4.0</td>\n",
       "      <td>4.0</td>\n",
       "      <td>at_home</td>\n",
       "      <td>teacher</td>\n",
       "      <td>course</td>\n",
       "      <td>mother</td>\n",
       "      <td>2.0</td>\n",
       "      <td>2.0</td>\n",
       "      <td>0.0</td>\n",
       "      <td>yes</td>\n",
       "      <td>no</td>\n",
       "      <td>no</td>\n",
       "      <td>no</td>\n",
       "      <td>yes</td>\n",
       "      <td>-6.0</td>\n",
       "      <td>yes</td>\n",
       "      <td>NaN</td>\n",
       "      <td>no</td>\n",
       "      <td>4.0</td>\n",
       "      <td>3.0</td>\n",
       "      <td>4.0</td>\n",
       "      <td>3.0</td>\n",
       "      <td>6.0</td>\n",
       "      <td>30.0</td>\n",
       "    </tr>\n",
       "    <tr>\n",
       "      <th>1</th>\n",
       "      <td>GP</td>\n",
       "      <td>F</td>\n",
       "      <td>17</td>\n",
       "      <td>U</td>\n",
       "      <td>GT3</td>\n",
       "      <td>NaN</td>\n",
       "      <td>1.0</td>\n",
       "      <td>1.0</td>\n",
       "      <td>at_home</td>\n",
       "      <td>other</td>\n",
       "      <td>course</td>\n",
       "      <td>father</td>\n",
       "      <td>1.0</td>\n",
       "      <td>2.0</td>\n",
       "      <td>0.0</td>\n",
       "      <td>no</td>\n",
       "      <td>yes</td>\n",
       "      <td>no</td>\n",
       "      <td>no</td>\n",
       "      <td>no</td>\n",
       "      <td>-6.0</td>\n",
       "      <td>yes</td>\n",
       "      <td>yes</td>\n",
       "      <td>no</td>\n",
       "      <td>5.0</td>\n",
       "      <td>3.0</td>\n",
       "      <td>3.0</td>\n",
       "      <td>3.0</td>\n",
       "      <td>4.0</td>\n",
       "      <td>30.0</td>\n",
       "    </tr>\n",
       "    <tr>\n",
       "      <th>2</th>\n",
       "      <td>GP</td>\n",
       "      <td>F</td>\n",
       "      <td>15</td>\n",
       "      <td>U</td>\n",
       "      <td>LE3</td>\n",
       "      <td>T</td>\n",
       "      <td>1.0</td>\n",
       "      <td>1.0</td>\n",
       "      <td>at_home</td>\n",
       "      <td>other</td>\n",
       "      <td>other</td>\n",
       "      <td>mother</td>\n",
       "      <td>1.0</td>\n",
       "      <td>2.0</td>\n",
       "      <td>3.0</td>\n",
       "      <td>yes</td>\n",
       "      <td>no</td>\n",
       "      <td>NaN</td>\n",
       "      <td>no</td>\n",
       "      <td>yes</td>\n",
       "      <td>-6.0</td>\n",
       "      <td>yes</td>\n",
       "      <td>yes</td>\n",
       "      <td>NaN</td>\n",
       "      <td>4.0</td>\n",
       "      <td>3.0</td>\n",
       "      <td>2.0</td>\n",
       "      <td>3.0</td>\n",
       "      <td>10.0</td>\n",
       "      <td>50.0</td>\n",
       "    </tr>\n",
       "    <tr>\n",
       "      <th>3</th>\n",
       "      <td>GP</td>\n",
       "      <td>F</td>\n",
       "      <td>15</td>\n",
       "      <td>U</td>\n",
       "      <td>GT3</td>\n",
       "      <td>T</td>\n",
       "      <td>4.0</td>\n",
       "      <td>2.0</td>\n",
       "      <td>health</td>\n",
       "      <td>NaN</td>\n",
       "      <td>home</td>\n",
       "      <td>mother</td>\n",
       "      <td>1.0</td>\n",
       "      <td>3.0</td>\n",
       "      <td>0.0</td>\n",
       "      <td>no</td>\n",
       "      <td>yes</td>\n",
       "      <td>yes</td>\n",
       "      <td>yes</td>\n",
       "      <td>yes</td>\n",
       "      <td>-9.0</td>\n",
       "      <td>yes</td>\n",
       "      <td>yes</td>\n",
       "      <td>yes</td>\n",
       "      <td>3.0</td>\n",
       "      <td>2.0</td>\n",
       "      <td>2.0</td>\n",
       "      <td>5.0</td>\n",
       "      <td>2.0</td>\n",
       "      <td>75.0</td>\n",
       "    </tr>\n",
       "    <tr>\n",
       "      <th>4</th>\n",
       "      <td>GP</td>\n",
       "      <td>F</td>\n",
       "      <td>16</td>\n",
       "      <td>U</td>\n",
       "      <td>GT3</td>\n",
       "      <td>T</td>\n",
       "      <td>3.0</td>\n",
       "      <td>3.0</td>\n",
       "      <td>other</td>\n",
       "      <td>other</td>\n",
       "      <td>home</td>\n",
       "      <td>father</td>\n",
       "      <td>1.0</td>\n",
       "      <td>2.0</td>\n",
       "      <td>0.0</td>\n",
       "      <td>no</td>\n",
       "      <td>yes</td>\n",
       "      <td>yes</td>\n",
       "      <td>no</td>\n",
       "      <td>yes</td>\n",
       "      <td>-6.0</td>\n",
       "      <td>yes</td>\n",
       "      <td>no</td>\n",
       "      <td>no</td>\n",
       "      <td>4.0</td>\n",
       "      <td>3.0</td>\n",
       "      <td>2.0</td>\n",
       "      <td>5.0</td>\n",
       "      <td>4.0</td>\n",
       "      <td>50.0</td>\n",
       "    </tr>\n",
       "    <tr>\n",
       "      <th>...</th>\n",
       "      <td>...</td>\n",
       "      <td>...</td>\n",
       "      <td>...</td>\n",
       "      <td>...</td>\n",
       "      <td>...</td>\n",
       "      <td>...</td>\n",
       "      <td>...</td>\n",
       "      <td>...</td>\n",
       "      <td>...</td>\n",
       "      <td>...</td>\n",
       "      <td>...</td>\n",
       "      <td>...</td>\n",
       "      <td>...</td>\n",
       "      <td>...</td>\n",
       "      <td>...</td>\n",
       "      <td>...</td>\n",
       "      <td>...</td>\n",
       "      <td>...</td>\n",
       "      <td>...</td>\n",
       "      <td>...</td>\n",
       "      <td>...</td>\n",
       "      <td>...</td>\n",
       "      <td>...</td>\n",
       "      <td>...</td>\n",
       "      <td>...</td>\n",
       "      <td>...</td>\n",
       "      <td>...</td>\n",
       "      <td>...</td>\n",
       "      <td>...</td>\n",
       "      <td>...</td>\n",
       "    </tr>\n",
       "    <tr>\n",
       "      <th>390</th>\n",
       "      <td>MS</td>\n",
       "      <td>M</td>\n",
       "      <td>20</td>\n",
       "      <td>U</td>\n",
       "      <td>LE3</td>\n",
       "      <td>A</td>\n",
       "      <td>2.0</td>\n",
       "      <td>2.0</td>\n",
       "      <td>services</td>\n",
       "      <td>services</td>\n",
       "      <td>course</td>\n",
       "      <td>NaN</td>\n",
       "      <td>1.0</td>\n",
       "      <td>2.0</td>\n",
       "      <td>2.0</td>\n",
       "      <td>no</td>\n",
       "      <td>yes</td>\n",
       "      <td>yes</td>\n",
       "      <td>no</td>\n",
       "      <td>yes</td>\n",
       "      <td>-6.0</td>\n",
       "      <td>yes</td>\n",
       "      <td>no</td>\n",
       "      <td>no</td>\n",
       "      <td>5.0</td>\n",
       "      <td>5.0</td>\n",
       "      <td>4.0</td>\n",
       "      <td>4.0</td>\n",
       "      <td>212.0</td>\n",
       "      <td>45.0</td>\n",
       "    </tr>\n",
       "    <tr>\n",
       "      <th>391</th>\n",
       "      <td>MS</td>\n",
       "      <td>M</td>\n",
       "      <td>17</td>\n",
       "      <td>U</td>\n",
       "      <td>LE3</td>\n",
       "      <td>T</td>\n",
       "      <td>3.0</td>\n",
       "      <td>1.0</td>\n",
       "      <td>services</td>\n",
       "      <td>services</td>\n",
       "      <td>course</td>\n",
       "      <td>mother</td>\n",
       "      <td>2.0</td>\n",
       "      <td>1.0</td>\n",
       "      <td>0.0</td>\n",
       "      <td>no</td>\n",
       "      <td>no</td>\n",
       "      <td>no</td>\n",
       "      <td>no</td>\n",
       "      <td>no</td>\n",
       "      <td>-3.0</td>\n",
       "      <td>yes</td>\n",
       "      <td>yes</td>\n",
       "      <td>no</td>\n",
       "      <td>2.0</td>\n",
       "      <td>4.0</td>\n",
       "      <td>5.0</td>\n",
       "      <td>2.0</td>\n",
       "      <td>3.0</td>\n",
       "      <td>80.0</td>\n",
       "    </tr>\n",
       "    <tr>\n",
       "      <th>392</th>\n",
       "      <td>MS</td>\n",
       "      <td>M</td>\n",
       "      <td>21</td>\n",
       "      <td>R</td>\n",
       "      <td>GT3</td>\n",
       "      <td>T</td>\n",
       "      <td>1.0</td>\n",
       "      <td>1.0</td>\n",
       "      <td>other</td>\n",
       "      <td>other</td>\n",
       "      <td>course</td>\n",
       "      <td>NaN</td>\n",
       "      <td>1.0</td>\n",
       "      <td>1.0</td>\n",
       "      <td>3.0</td>\n",
       "      <td>NaN</td>\n",
       "      <td>no</td>\n",
       "      <td>no</td>\n",
       "      <td>no</td>\n",
       "      <td>no</td>\n",
       "      <td>-3.0</td>\n",
       "      <td>NaN</td>\n",
       "      <td>no</td>\n",
       "      <td>no</td>\n",
       "      <td>5.0</td>\n",
       "      <td>5.0</td>\n",
       "      <td>3.0</td>\n",
       "      <td>3.0</td>\n",
       "      <td>3.0</td>\n",
       "      <td>35.0</td>\n",
       "    </tr>\n",
       "    <tr>\n",
       "      <th>393</th>\n",
       "      <td>MS</td>\n",
       "      <td>M</td>\n",
       "      <td>18</td>\n",
       "      <td>R</td>\n",
       "      <td>LE3</td>\n",
       "      <td>T</td>\n",
       "      <td>3.0</td>\n",
       "      <td>2.0</td>\n",
       "      <td>services</td>\n",
       "      <td>other</td>\n",
       "      <td>course</td>\n",
       "      <td>mother</td>\n",
       "      <td>3.0</td>\n",
       "      <td>1.0</td>\n",
       "      <td>0.0</td>\n",
       "      <td>no</td>\n",
       "      <td>no</td>\n",
       "      <td>no</td>\n",
       "      <td>NaN</td>\n",
       "      <td>no</td>\n",
       "      <td>-3.0</td>\n",
       "      <td>yes</td>\n",
       "      <td>yes</td>\n",
       "      <td>no</td>\n",
       "      <td>4.0</td>\n",
       "      <td>4.0</td>\n",
       "      <td>1.0</td>\n",
       "      <td>5.0</td>\n",
       "      <td>0.0</td>\n",
       "      <td>50.0</td>\n",
       "    </tr>\n",
       "    <tr>\n",
       "      <th>394</th>\n",
       "      <td>MS</td>\n",
       "      <td>M</td>\n",
       "      <td>19</td>\n",
       "      <td>U</td>\n",
       "      <td>LE3</td>\n",
       "      <td>T</td>\n",
       "      <td>1.0</td>\n",
       "      <td>1.0</td>\n",
       "      <td>other</td>\n",
       "      <td>at_home</td>\n",
       "      <td>NaN</td>\n",
       "      <td>father</td>\n",
       "      <td>1.0</td>\n",
       "      <td>1.0</td>\n",
       "      <td>0.0</td>\n",
       "      <td>NaN</td>\n",
       "      <td>no</td>\n",
       "      <td>no</td>\n",
       "      <td>no</td>\n",
       "      <td>yes</td>\n",
       "      <td>-3.0</td>\n",
       "      <td>yes</td>\n",
       "      <td>yes</td>\n",
       "      <td>no</td>\n",
       "      <td>3.0</td>\n",
       "      <td>2.0</td>\n",
       "      <td>3.0</td>\n",
       "      <td>5.0</td>\n",
       "      <td>5.0</td>\n",
       "      <td>45.0</td>\n",
       "    </tr>\n",
       "  </tbody>\n",
       "</table>\n",
       "<p>395 rows × 30 columns</p>\n",
       "</div>"
      ],
      "text/plain": [
       "    school sex  age address famsize Pstatus  Medu  Fedu      Mjob      Fjob  \\\n",
       "0       GP   F   18       U     NaN       A   4.0   4.0   at_home   teacher   \n",
       "1       GP   F   17       U     GT3     NaN   1.0   1.0   at_home     other   \n",
       "2       GP   F   15       U     LE3       T   1.0   1.0   at_home     other   \n",
       "3       GP   F   15       U     GT3       T   4.0   2.0    health       NaN   \n",
       "4       GP   F   16       U     GT3       T   3.0   3.0     other     other   \n",
       "..     ...  ..  ...     ...     ...     ...   ...   ...       ...       ...   \n",
       "390     MS   M   20       U     LE3       A   2.0   2.0  services  services   \n",
       "391     MS   M   17       U     LE3       T   3.0   1.0  services  services   \n",
       "392     MS   M   21       R     GT3       T   1.0   1.0     other     other   \n",
       "393     MS   M   18       R     LE3       T   3.0   2.0  services     other   \n",
       "394     MS   M   19       U     LE3       T   1.0   1.0     other   at_home   \n",
       "\n",
       "     reason guardian  traveltime  studytime  failures schoolsup famsup paid  \\\n",
       "0    course   mother         2.0        2.0       0.0       yes     no   no   \n",
       "1    course   father         1.0        2.0       0.0        no    yes   no   \n",
       "2     other   mother         1.0        2.0       3.0       yes     no  NaN   \n",
       "3      home   mother         1.0        3.0       0.0        no    yes  yes   \n",
       "4      home   father         1.0        2.0       0.0        no    yes  yes   \n",
       "..      ...      ...         ...        ...       ...       ...    ...  ...   \n",
       "390  course      NaN         1.0        2.0       2.0        no    yes  yes   \n",
       "391  course   mother         2.0        1.0       0.0        no     no   no   \n",
       "392  course      NaN         1.0        1.0       3.0       NaN     no   no   \n",
       "393  course   mother         3.0        1.0       0.0        no     no   no   \n",
       "394     NaN   father         1.0        1.0       0.0       NaN     no   no   \n",
       "\n",
       "    activities nursery  studytime, granular higher internet romantic  famrel  \\\n",
       "0           no     yes                 -6.0    yes      NaN       no     4.0   \n",
       "1           no      no                 -6.0    yes      yes       no     5.0   \n",
       "2           no     yes                 -6.0    yes      yes      NaN     4.0   \n",
       "3          yes     yes                 -9.0    yes      yes      yes     3.0   \n",
       "4           no     yes                 -6.0    yes       no       no     4.0   \n",
       "..         ...     ...                  ...    ...      ...      ...     ...   \n",
       "390         no     yes                 -6.0    yes       no       no     5.0   \n",
       "391         no      no                 -3.0    yes      yes       no     2.0   \n",
       "392         no      no                 -3.0    NaN       no       no     5.0   \n",
       "393        NaN      no                 -3.0    yes      yes       no     4.0   \n",
       "394         no     yes                 -3.0    yes      yes       no     3.0   \n",
       "\n",
       "     freetime  goout  health  absences  score  \n",
       "0         3.0    4.0     3.0       6.0   30.0  \n",
       "1         3.0    3.0     3.0       4.0   30.0  \n",
       "2         3.0    2.0     3.0      10.0   50.0  \n",
       "3         2.0    2.0     5.0       2.0   75.0  \n",
       "4         3.0    2.0     5.0       4.0   50.0  \n",
       "..        ...    ...     ...       ...    ...  \n",
       "390       5.0    4.0     4.0     212.0   45.0  \n",
       "391       4.0    5.0     2.0       3.0   80.0  \n",
       "392       5.0    3.0     3.0       3.0   35.0  \n",
       "393       4.0    1.0     5.0       0.0   50.0  \n",
       "394       2.0    3.0     5.0       5.0   45.0  \n",
       "\n",
       "[395 rows x 30 columns]"
      ]
     },
     "execution_count": 1,
     "metadata": {},
     "output_type": "execute_result"
    }
   ],
   "source": [
    "import pandas as pd\n",
    "import matplotlib.pyplot as plt\n",
    "import seaborn as sns\n",
    "from itertools import combinations\n",
    "from scipy.stats import ttest_ind\n",
    "from pandas.api.types import is_string_dtype\n",
    "import math\n",
    "\n",
    "\n",
    "def describe_column(c):\n",
    "    print(c.value_counts())\n",
    "    c.hist()\n",
    "    print(c.describe())\n",
    "    print(\"ALL_COUNT:\" + str(len(c)))\n",
    "\n",
    "\n",
    "pd.set_option('display.max_rows', 50)  # показывать больше строк\n",
    "pd.set_option('display.max_columns', 50)  # показывать больше колонок\n",
    "\n",
    "students = pd.read_csv('stud_math.csv')\n",
    "\n",
    "students"
   ]
  },
  {
   "cell_type": "code",
   "execution_count": 2,
   "metadata": {},
   "outputs": [
    {
     "name": "stdout",
     "output_type": "stream",
     "text": [
      "GP    349\n",
      "MS     46\n",
      "Name: school, dtype: int64\n",
      "count     395\n",
      "unique      2\n",
      "top        GP\n",
      "freq      349\n",
      "Name: school, dtype: object\n",
      "ALL_COUNT:395\n"
     ]
    },
    {
     "data": {
      "image/png": "[encoded data removed]",
      "text/plain": [
       "<Figure size 432x288 with 1 Axes>"
      ]
     },
     "metadata": {
      "needs_background": "light"
     },
     "output_type": "display_data"
    }
   ],
   "source": [
    "# school\n",
    "describe_column(students.school)"
   ]
  },
  {
   "cell_type": "code",
   "execution_count": 3,
   "metadata": {},
   "outputs": [],
   "source": [
    "# Итого, в schools имеем дискретное распределение вероятностей с 2 двумя различными вариантами.\n",
    "# Ничего особенного по предварительному анализу отдельного столбца school не найдено.\n",
    "# Учеников из школы GP намного больше учеников школы MS.\n",
    "# Выбросов не найдено, пустых значений нет."
   ]
  },
  {
   "cell_type": "code",
   "execution_count": 4,
   "metadata": {},
   "outputs": [
    {
     "name": "stdout",
     "output_type": "stream",
     "text": [
      "F    208\n",
      "M    187\n",
      "Name: sex, dtype: int64\n",
      "count     395\n",
      "unique      2\n",
      "top         F\n",
      "freq      208\n",
      "Name: sex, dtype: object\n",
      "ALL_COUNT:395\n"
     ]
    },
    {
     "data": {
      "image/png": "[encoded data removed]",
      "text/plain": [
       "<Figure size 432x288 with 1 Axes>"
      ]
     },
     "metadata": {
      "needs_background": "light"
     },
     "output_type": "display_data"
    }
   ],
   "source": [
    "# sex\n",
    "describe_column(students.sex)"
   ]
  },
  {
   "cell_type": "code",
   "execution_count": 5,
   "metadata": {},
   "outputs": [],
   "source": [
    "# В sex имеем дискретное распределение вероятностей с 2 двумя различными вариантами.\n",
    "# Ничего особенного по предварительному анализу отдельного столбца sex не найдено.\n",
    "# Количество учащихся разных полов отличается не сильно, женского пола больше.\n",
    "# Выбросов не найдено, пустых значений нет."
   ]
  },
  {
   "cell_type": "code",
   "execution_count": 6,
   "metadata": {},
   "outputs": [
    {
     "name": "stdout",
     "output_type": "stream",
     "text": [
      "16    104\n",
      "17     98\n",
      "18     82\n",
      "15     82\n",
      "19     24\n",
      "20      3\n",
      "22      1\n",
      "21      1\n",
      "Name: age, dtype: int64\n",
      "count    395.000000\n",
      "mean      16.696203\n",
      "std        1.276043\n",
      "min       15.000000\n",
      "25%       16.000000\n",
      "50%       17.000000\n",
      "75%       18.000000\n",
      "max       22.000000\n",
      "Name: age, dtype: float64\n",
      "ALL_COUNT:395\n"
     ]
    },
    {
     "data": {
      "image/png": "[encoded data removed]",
      "text/plain": [
       "<Figure size 432x288 with 1 Axes>"
      ]
     },
     "metadata": {
      "needs_background": "light"
     },
     "output_type": "display_data"
    }
   ],
   "source": [
    "# age\n",
    "describe_column(students.age)"
   ]
  },
  {
   "cell_type": "code",
   "execution_count": 7,
   "metadata": {},
   "outputs": [],
   "source": [
    "# Распределение дискретное, выбросов нет (все от 15 до 22 включительно).\n",
    "# Видно, что количество детей старшего возраста незначительно. Поэтому есть смысл отбросить возрасты 20, 21 и 22.\n",
    "# Как вариант можно присоединить их к группе 19, но это может нарушить статистические параметры этой группы. Т.к.\n",
    "# добавится 5 человек к 25, что может являться значительной частью от числа 19-ти летних.\n",
    "# Отбросим возрасты >= 20."
   ]
  },
  {
   "cell_type": "code",
   "execution_count": 8,
   "metadata": {},
   "outputs": [
    {
     "name": "stdout",
     "output_type": "stream",
     "text": [
      "16    104\n",
      "17     98\n",
      "18     82\n",
      "15     82\n",
      "19     24\n",
      "Name: age, dtype: int64\n",
      "count    390.000000\n",
      "mean      16.646154\n",
      "std        1.201081\n",
      "min       15.000000\n",
      "25%       16.000000\n",
      "50%       17.000000\n",
      "75%       18.000000\n",
      "max       19.000000\n",
      "Name: age, dtype: float64\n",
      "ALL_COUNT:390\n"
     ]
    },
    {
     "data": {
      "image/png": "[encoded data removed]",
      "text/plain": [
       "<Figure size 432x288 with 1 Axes>"
      ]
     },
     "metadata": {
      "needs_background": "light"
     },
     "output_type": "display_data"
    }
   ],
   "source": [
    "students = students.loc[students.age < 20]\n",
    "describe_column(students.age)"
   ]
  },
  {
   "cell_type": "code",
   "execution_count": 9,
   "metadata": {},
   "outputs": [],
   "source": [
    "# Стало лучше, учеников \"среднего\" (16-17) больше всех."
   ]
  },
  {
   "cell_type": "code",
   "execution_count": 10,
   "metadata": {},
   "outputs": [
    {
     "name": "stdout",
     "output_type": "stream",
     "text": [
      "U    292\n",
      "R     82\n",
      "Name: address, dtype: int64\n",
      "count     374\n",
      "unique      2\n",
      "top         U\n",
      "freq      292\n",
      "Name: address, dtype: object\n",
      "ALL_COUNT:390\n"
     ]
    },
    {
     "data": {
      "image/png": "[encoded data removed]",
      "text/plain": [
       "<Figure size 432x288 with 1 Axes>"
      ]
     },
     "metadata": {
      "needs_background": "light"
     },
     "output_type": "display_data"
    }
   ],
   "source": [
    "# address\n",
    "describe_column(students.address)"
   ]
  },
  {
   "cell_type": "code",
   "execution_count": 11,
   "metadata": {},
   "outputs": [],
   "source": [
    "# Итого, в address имеем дискретное распределение вероятностей с 2 двумя различными вариантами.\n",
    "# Ничего особенного по предварительному анализу отдельного столбца address не найдено.\n",
    "# Учеников из города намного больше учеников школы из \"вне города\".\n",
    "# Выбросов не найдено, пустые значения есть (390 - 374 = 16) < 5%."
   ]
  },
  {
   "cell_type": "code",
   "execution_count": 12,
   "metadata": {},
   "outputs": [
    {
     "name": "stdout",
     "output_type": "stream",
     "text": [
      "GT3    257\n",
      "LE3    106\n",
      "Name: famsize, dtype: int64\n",
      "count     363\n",
      "unique      2\n",
      "top       GT3\n",
      "freq      257\n",
      "Name: famsize, dtype: object\n",
      "ALL_COUNT:390\n"
     ]
    },
    {
     "data": {
      "image/png": "[encoded data removed]",
      "text/plain": [
       "<Figure size 432x288 with 1 Axes>"
      ]
     },
     "metadata": {
      "needs_background": "light"
     },
     "output_type": "display_data"
    }
   ],
   "source": [
    "# famsize\n",
    "describe_column(students.famsize)"
   ]
  },
  {
   "cell_type": "code",
   "execution_count": 13,
   "metadata": {},
   "outputs": [],
   "source": [
    "# Итого, в famsize имеем дискретное распределение вероятностей с 2 двумя различными вариантами.\n",
    "# Ничего особенного по предварительному анализу отдельного столбца famsize не найдено.\n",
    "# Учеников из семей с числом людей > 3 больше учеников с семьёй размера <=3.\n",
    "# Выбросов не найдено, пустые значения есть (390 - 363 = 27) < 10%."
   ]
  },
  {
   "cell_type": "code",
   "execution_count": 14,
   "metadata": {},
   "outputs": [
    {
     "name": "stdout",
     "output_type": "stream",
     "text": [
      "T    311\n",
      "A     34\n",
      "Name: Pstatus, dtype: int64\n",
      "count     345\n",
      "unique      2\n",
      "top         T\n",
      "freq      311\n",
      "Name: Pstatus, dtype: object\n",
      "ALL_COUNT:390\n"
     ]
    },
    {
     "data": {
      "image/png": "[encoded data removed]",
      "text/plain": [
       "<Figure size 432x288 with 1 Axes>"
      ]
     },
     "metadata": {
      "needs_background": "light"
     },
     "output_type": "display_data"
    }
   ],
   "source": [
    "# Pstatus\n",
    "describe_column(students.Pstatus)"
   ]
  },
  {
   "cell_type": "code",
   "execution_count": 15,
   "metadata": {},
   "outputs": [],
   "source": [
    "# Итого, в Pstatus имеем дискретное распределение вероятностей с 2 двумя различными вариантами.\n",
    "# Ничего особенного по предварительному анализу отдельного столбца famsize не найдено.\n",
    "# Учеников из семей с совместно живущими родителями больше, чем с раздельно живущими.\n",
    "# Выбросов не найдено, пустые значения есть (390 - 345 = 45) = 11.5%."
   ]
  },
  {
   "cell_type": "code",
   "execution_count": 16,
   "metadata": {},
   "outputs": [
    {
     "name": "stdout",
     "output_type": "stream",
     "text": [
      "4.0    130\n",
      "2.0    101\n",
      "3.0     95\n",
      "1.0     58\n",
      "0.0      3\n",
      "Name: Medu, dtype: int64\n",
      "count    387.000000\n",
      "mean       2.751938\n",
      "std        1.098970\n",
      "min        0.000000\n",
      "25%        2.000000\n",
      "50%        3.000000\n",
      "75%        4.000000\n",
      "max        4.000000\n",
      "Name: Medu, dtype: float64\n",
      "ALL_COUNT:390\n"
     ]
    },
    {
     "data": {
      "image/png": "[encoded data removed]",
      "text/plain": [
       "<Figure size 432x288 with 1 Axes>"
      ]
     },
     "metadata": {
      "needs_background": "light"
     },
     "output_type": "display_data"
    }
   ],
   "source": [
    "# Medu\n",
    "describe_column(students.Medu)"
   ]
  },
  {
   "cell_type": "code",
   "execution_count": 17,
   "metadata": {},
   "outputs": [],
   "source": [
    "# Распределение дискретное, выбросов нет (все от 0 до 4 включительно). 3 пустых значения.\n",
    "# Видно, что количество количество матерей без образования очень мало.\n",
    "# С увеличением качества образования есть тенденция к увеличению размера категории."
   ]
  },
  {
   "cell_type": "code",
   "execution_count": 18,
   "metadata": {},
   "outputs": [
    {
     "name": "stdout",
     "output_type": "stream",
     "text": [
      "2.0     103\n",
      "3.0      96\n",
      "4.0      88\n",
      "1.0      76\n",
      "0.0       2\n",
      "40.0      1\n",
      "Name: Fedu, dtype: int64\n",
      "count    366.000000\n",
      "mean       2.628415\n",
      "std        2.240025\n",
      "min        0.000000\n",
      "25%        2.000000\n",
      "50%        3.000000\n",
      "75%        3.000000\n",
      "max       40.000000\n",
      "Name: Fedu, dtype: float64\n",
      "ALL_COUNT:390\n"
     ]
    },
    {
     "data": {
      "image/png": "[encoded data removed]",
      "text/plain": [
       "<Figure size 432x288 with 1 Axes>"
      ]
     },
     "metadata": {
      "needs_background": "light"
     },
     "output_type": "display_data"
    }
   ],
   "source": [
    "# Fedu\n",
    "describe_column(students.Fedu)"
   ]
  },
  {
   "cell_type": "code",
   "execution_count": 19,
   "metadata": {},
   "outputs": [
    {
     "name": "stdout",
     "output_type": "stream",
     "text": [
      "2.0    103\n",
      "3.0     96\n",
      "4.0     88\n",
      "1.0     76\n",
      "0.0      2\n",
      "Name: Fedu, dtype: int64\n",
      "count    365.000000\n",
      "mean       2.526027\n",
      "std        1.088151\n",
      "min        0.000000\n",
      "25%        2.000000\n",
      "50%        3.000000\n",
      "75%        3.000000\n",
      "max        4.000000\n",
      "Name: Fedu, dtype: float64\n",
      "ALL_COUNT:389\n"
     ]
    },
    {
     "data": {
      "image/png": "[encoded data removed]",
      "text/plain": [
       "<Figure size 432x288 with 1 Axes>"
      ]
     },
     "metadata": {
      "needs_background": "light"
     },
     "output_type": "display_data"
    }
   ],
   "source": [
    "# есть выбросы. уберём их (согласно условию модели 0<=x<=4)\n",
    "students = students.loc[students.Fedu != 40]\n",
    "describe_column(students.Fedu)"
   ]
  },
  {
   "cell_type": "code",
   "execution_count": 20,
   "metadata": {},
   "outputs": [],
   "source": [
    "# Распределение дискретное. 389-365 = 26 пустых значений < 10%.\n",
    "# Видно, что количество количество отцов без образования очень мало.\n",
    "# Размеры остальных категорий более-менее совпадают."
   ]
  },
  {
   "cell_type": "code",
   "execution_count": 21,
   "metadata": {},
   "outputs": [
    {
     "name": "stdout",
     "output_type": "stream",
     "text": [
      "other       132\n",
      "services     94\n",
      "at_home      58\n",
      "teacher      55\n",
      "health       31\n",
      "Name: Mjob, dtype: int64\n",
      "count       370\n",
      "unique        5\n",
      "top       other\n",
      "freq        132\n",
      "Name: Mjob, dtype: object\n",
      "ALL_COUNT:389\n"
     ]
    },
    {
     "data": {
      "image/png": "[encoded data removed]",
      "text/plain": [
       "<Figure size 432x288 with 1 Axes>"
      ]
     },
     "metadata": {
      "needs_background": "light"
     },
     "output_type": "display_data"
    }
   ],
   "source": [
    "# Mjob\n",
    "describe_column(students.Mjob)"
   ]
  },
  {
   "cell_type": "code",
   "execution_count": 22,
   "metadata": {},
   "outputs": [],
   "source": [
    "# Распределение дискретное. 389-346 = 43 пустых значения, что составляет около 11%.\n",
    "# Закономерностей не найдено. Выбросов нет."
   ]
  },
  {
   "cell_type": "code",
   "execution_count": 23,
   "metadata": {},
   "outputs": [
    {
     "name": "stdout",
     "output_type": "stream",
     "text": [
      "other       193\n",
      "services    100\n",
      "teacher      29\n",
      "at_home      16\n",
      "health       15\n",
      "Name: Fjob, dtype: int64\n",
      "count       353\n",
      "unique        5\n",
      "top       other\n",
      "freq        193\n",
      "Name: Fjob, dtype: object\n",
      "ALL_COUNT:389\n"
     ]
    },
    {
     "data": {
      "image/png": "[encoded data removed]",
      "text/plain": [
       "<Figure size 432x288 with 1 Axes>"
      ]
     },
     "metadata": {
      "needs_background": "light"
     },
     "output_type": "display_data"
    }
   ],
   "source": [
    "# Fjob\n",
    "describe_column(students.Fjob)"
   ]
  },
  {
   "cell_type": "code",
   "execution_count": 24,
   "metadata": {},
   "outputs": [],
   "source": [
    "# Распределение дискретное.\n",
    "# 389-331 = 58 пустых значений, что составляет около 15%.\n",
    "# Две категории из 5 являются преобладающим. Выбросов нет."
   ]
  },
  {
   "cell_type": "code",
   "execution_count": 25,
   "metadata": {},
   "outputs": [
    {
     "name": "stdout",
     "output_type": "stream",
     "text": [
      "course        133\n",
      "home          104\n",
      "reputation    102\n",
      "other          33\n",
      "Name: reason, dtype: int64\n",
      "count        372\n",
      "unique         4\n",
      "top       course\n",
      "freq         133\n",
      "Name: reason, dtype: object\n",
      "ALL_COUNT:389\n"
     ]
    },
    {
     "data": {
      "image/png": "[encoded data removed]",
      "text/plain": [
       "<Figure size 432x288 with 1 Axes>"
      ]
     },
     "metadata": {
      "needs_background": "light"
     },
     "output_type": "display_data"
    }
   ],
   "source": [
    "# reason\n",
    "describe_column(students.reason)"
   ]
  },
  {
   "cell_type": "code",
   "execution_count": 26,
   "metadata": {},
   "outputs": [],
   "source": [
    "# Распределение дискретное.\n",
    "# 389-349 = 40 пустых значений, что составляет около 10,5%.\n",
    "# Одна из категорий (other) существенно меньше других. Выбросов нет."
   ]
  },
  {
   "cell_type": "code",
   "execution_count": 27,
   "metadata": {},
   "outputs": [
    {
     "name": "stdout",
     "output_type": "stream",
     "text": [
      "mother    249\n",
      "father     85\n",
      "other      27\n",
      "Name: guardian, dtype: int64\n",
      "count        361\n",
      "unique         3\n",
      "top       mother\n",
      "freq         249\n",
      "Name: guardian, dtype: object\n",
      "ALL_COUNT:389\n"
     ]
    },
    {
     "data": {
      "image/png": "[encoded data removed]",
      "text/plain": [
       "<Figure size 432x288 with 1 Axes>"
      ]
     },
     "metadata": {
      "needs_background": "light"
     },
     "output_type": "display_data"
    }
   ],
   "source": [
    "# guardian\n",
    "describe_column(students.guardian)"
   ]
  },
  {
   "cell_type": "code",
   "execution_count": 28,
   "metadata": {},
   "outputs": [],
   "source": [
    "# Распределение дискретное.\n",
    "# 389-338 = 51 пустое значение, что составляет около 13,3%.\n",
    "# Матери являются опекунами чаще всего. Выбросов нет."
   ]
  },
  {
   "cell_type": "code",
   "execution_count": 29,
   "metadata": {},
   "outputs": [
    {
     "name": "stdout",
     "output_type": "stream",
     "text": [
      "1.0    238\n",
      "2.0     95\n",
      "3.0     21\n",
      "4.0      7\n",
      "Name: traveltime, dtype: int64\n",
      "count    361.000000\n",
      "mean       1.437673\n",
      "std        0.692916\n",
      "min        1.000000\n",
      "25%        1.000000\n",
      "50%        1.000000\n",
      "75%        2.000000\n",
      "max        4.000000\n",
      "Name: traveltime, dtype: float64\n",
      "ALL_COUNT:389\n"
     ]
    },
    {
     "data": {
      "image/png": "[encoded data removed]",
      "text/plain": [
       "<Figure size 432x288 with 1 Axes>"
      ]
     },
     "metadata": {
      "needs_background": "light"
     },
     "output_type": "display_data"
    }
   ],
   "source": [
    "# traveltime\n",
    "describe_column(students.traveltime)"
   ]
  },
  {
   "cell_type": "code",
   "execution_count": 30,
   "metadata": {},
   "outputs": [],
   "source": [
    "# Распределение дискретное. Выбросов нет (всё от 1 до 4 включительно)\n",
    "# 389-340 = 49 пустых значений, что составляет около 13%.\n",
    "# Столбец показывает, что дети обычно живут близко к школе."
   ]
  },
  {
   "cell_type": "code",
   "execution_count": 31,
   "metadata": {},
   "outputs": [
    {
     "name": "stdout",
     "output_type": "stream",
     "text": [
      "2.0    193\n",
      "1.0    100\n",
      "3.0     62\n",
      "4.0     27\n",
      "Name: studytime, dtype: int64\n",
      "count    382.000000\n",
      "mean       2.041885\n",
      "std        0.840775\n",
      "min        1.000000\n",
      "25%        1.000000\n",
      "50%        2.000000\n",
      "75%        2.000000\n",
      "max        4.000000\n",
      "Name: studytime, dtype: float64\n",
      "ALL_COUNT:389\n"
     ]
    },
    {
     "data": {
      "image/png": "[encoded data removed]",
      "text/plain": [
       "<Figure size 432x288 with 1 Axes>"
      ]
     },
     "metadata": {
      "needs_background": "light"
     },
     "output_type": "display_data"
    }
   ],
   "source": [
    "# studytime\n",
    "describe_column(students.studytime)"
   ]
  },
  {
   "cell_type": "code",
   "execution_count": 32,
   "metadata": {},
   "outputs": [],
   "source": [
    "# Распределение дискретное. Выбросов нет (всё от 1 до 4 включительно)\n",
    "# 389-358 = 31 пустое значение, что составляет около 8%.\n",
    "# Распределение в столбце похоже на нормальное с наибольшей частотой 2-5 часов."
   ]
  },
  {
   "cell_type": "code",
   "execution_count": 33,
   "metadata": {},
   "outputs": [
    {
     "name": "stdout",
     "output_type": "stream",
     "text": [
      "0.0    291\n",
      "1.0     49\n",
      "2.0     14\n",
      "3.0     13\n",
      "Name: failures, dtype: int64\n",
      "count    367.000000\n",
      "mean       0.316076\n",
      "std        0.711604\n",
      "min        0.000000\n",
      "25%        0.000000\n",
      "50%        0.000000\n",
      "75%        0.000000\n",
      "max        3.000000\n",
      "Name: failures, dtype: float64\n",
      "ALL_COUNT:389\n"
     ]
    },
    {
     "data": {
      "image/png": "[encoded data removed]",
      "text/plain": [
       "<Figure size 432x288 with 1 Axes>"
      ]
     },
     "metadata": {
      "needs_background": "light"
     },
     "output_type": "display_data"
    }
   ],
   "source": [
    "# failures\n",
    "describe_column(students.failures)"
   ]
  },
  {
   "cell_type": "code",
   "execution_count": 34,
   "metadata": {},
   "outputs": [],
   "source": [
    "# Распределение дискретное. Выбросов нет (всё от 0 до 3 включительно)\n",
    "# 389-346 = 43 пустых значения, что составляет около 11%.\n",
    "# Преобладает значение 0, с частотой 80%."
   ]
  },
  {
   "cell_type": "code",
   "execution_count": 35,
   "metadata": {},
   "outputs": [
    {
     "name": "stdout",
     "output_type": "stream",
     "text": [
      "no     330\n",
      "yes     51\n",
      "Name: schoolsup, dtype: int64\n",
      "count     381\n",
      "unique      2\n",
      "top        no\n",
      "freq      330\n",
      "Name: schoolsup, dtype: object\n",
      "ALL_COUNT:389\n"
     ]
    },
    {
     "data": {
      "image/png": "[encoded data removed]",
      "text/plain": [
       "<Figure size 432x288 with 1 Axes>"
      ]
     },
     "metadata": {
      "needs_background": "light"
     },
     "output_type": "display_data"
    }
   ],
   "source": [
    "# schoolsup\n",
    "describe_column(students.schoolsup)"
   ]
  },
  {
   "cell_type": "code",
   "execution_count": 36,
   "metadata": {},
   "outputs": [],
   "source": [
    "# Распределение дискретное с двумя состояниями. Выбросов нет\n",
    "# 389-357 = 32 пустых значения, что составляет около 8,5%.\n",
    "# 87% учеников не получают дополнительную образовательную поддержку."
   ]
  },
  {
   "cell_type": "code",
   "execution_count": 37,
   "metadata": {},
   "outputs": [
    {
     "name": "stdout",
     "output_type": "stream",
     "text": [
      "yes    216\n",
      "no     134\n",
      "Name: famsup, dtype: int64\n",
      "count     350\n",
      "unique      2\n",
      "top       yes\n",
      "freq      216\n",
      "Name: famsup, dtype: object\n",
      "ALL_COUNT:389\n"
     ]
    },
    {
     "data": {
      "image/png": "[encoded data removed]",
      "text/plain": [
       "<Figure size 432x288 with 1 Axes>"
      ]
     },
     "metadata": {
      "needs_background": "light"
     },
     "output_type": "display_data"
    }
   ],
   "source": [
    "# famsup\n",
    "describe_column(students.famsup)"
   ]
  },
  {
   "cell_type": "code",
   "execution_count": 38,
   "metadata": {},
   "outputs": [],
   "source": [
    "# Распределение дискретное с двумя состояниями. Выбросов нет\n",
    "# 389-330 = 59 пустых значений, что составляет около 15%.\n",
    "# Соотношение частот составляет 39/61 %."
   ]
  },
  {
   "cell_type": "code",
   "execution_count": 39,
   "metadata": {},
   "outputs": [
    {
     "name": "stdout",
     "output_type": "stream",
     "text": [
      "no     196\n",
      "yes    153\n",
      "Name: paid, dtype: int64\n",
      "count     349\n",
      "unique      2\n",
      "top        no\n",
      "freq      196\n",
      "Name: paid, dtype: object\n",
      "ALL_COUNT:389\n"
     ]
    },
    {
     "data": {
      "image/png": "[encoded data removed]",
      "text/plain": [
       "<Figure size 432x288 with 1 Axes>"
      ]
     },
     "metadata": {
      "needs_background": "light"
     },
     "output_type": "display_data"
    }
   ],
   "source": [
    "# paid\n",
    "describe_column(students.paid)"
   ]
  },
  {
   "cell_type": "code",
   "execution_count": 40,
   "metadata": {},
   "outputs": [],
   "source": [
    "# Распределение дискретное с двумя состояниями. Выбросов нет\n",
    "# 389-328 = 61 пустых значения, что составляет около 16%.\n",
    "# Соотношение частот составляет 56/44 %."
   ]
  },
  {
   "cell_type": "code",
   "execution_count": 41,
   "metadata": {},
   "outputs": [
    {
     "name": "stdout",
     "output_type": "stream",
     "text": [
      "yes    193\n",
      "no     182\n",
      "Name: activities, dtype: int64\n",
      "count     375\n",
      "unique      2\n",
      "top       yes\n",
      "freq      193\n",
      "Name: activities, dtype: object\n",
      "ALL_COUNT:389\n"
     ]
    },
    {
     "data": {
      "image/png": "[encoded data removed]",
      "text/plain": [
       "<Figure size 432x288 with 1 Axes>"
      ]
     },
     "metadata": {
      "needs_background": "light"
     },
     "output_type": "display_data"
    }
   ],
   "source": [
    "# activities\n",
    "describe_column(students.activities)"
   ]
  },
  {
   "cell_type": "code",
   "execution_count": 42,
   "metadata": {},
   "outputs": [],
   "source": [
    "# Распределение дискретное с двумя состояниями. Выбросов нет\n",
    "# 389-351 = 38 пустых значений, что составляет около 10%.\n",
    "# Соотношение частот категорий почти равномерное."
   ]
  },
  {
   "cell_type": "code",
   "execution_count": 43,
   "metadata": {},
   "outputs": [
    {
     "name": "stdout",
     "output_type": "stream",
     "text": [
      "yes    297\n",
      "no      76\n",
      "Name: nursery, dtype: int64\n",
      "count     373\n",
      "unique      2\n",
      "top       yes\n",
      "freq      297\n",
      "Name: nursery, dtype: object\n",
      "ALL_COUNT:389\n"
     ]
    },
    {
     "data": {
      "image/png": "[encoded data removed]",
      "text/plain": [
       "<Figure size 432x288 with 1 Axes>"
      ]
     },
     "metadata": {
      "needs_background": "light"
     },
     "output_type": "display_data"
    }
   ],
   "source": [
    "# nursery\n",
    "describe_column(students.nursery)"
   ]
  },
  {
   "cell_type": "code",
   "execution_count": 44,
   "metadata": {},
   "outputs": [],
   "source": [
    "# Распределение дискретное с двумя состояниями. Выбросов нет\n",
    "# 389-349 = 40 пустых значений, что составляет около 10,5%.\n",
    "# Большая часть учеников посещала детский сад."
   ]
  },
  {
   "cell_type": "code",
   "execution_count": 45,
   "metadata": {},
   "outputs": [
    {
     "name": "stdout",
     "output_type": "stream",
     "text": [
      "yes    352\n",
      "no      18\n",
      "Name: higher, dtype: int64\n",
      "count     370\n",
      "unique      2\n",
      "top       yes\n",
      "freq      352\n",
      "Name: higher, dtype: object\n",
      "ALL_COUNT:389\n"
     ]
    },
    {
     "data": {
      "image/png": "[encoded data removed]",
      "text/plain": [
       "<Figure size 432x288 with 1 Axes>"
      ]
     },
     "metadata": {
      "needs_background": "light"
     },
     "output_type": "display_data"
    }
   ],
   "source": [
    "# higher\n",
    "describe_column(students.higher)"
   ]
  },
  {
   "cell_type": "code",
   "execution_count": 46,
   "metadata": {},
   "outputs": [],
   "source": [
    "# Распределение дискретное с двумя состояниями. Выбросов нет\n",
    "# 389-348 = 41 пустое значение, что составляет около 10,5%.\n",
    "# Большая часть учеников хочет получить высшее образование (95%)\n",
    "# Столбец является кандидатом на удаление."
   ]
  },
  {
   "cell_type": "code",
   "execution_count": 47,
   "metadata": {},
   "outputs": [
    {
     "name": "stdout",
     "output_type": "stream",
     "text": [
      "yes    302\n",
      "no      53\n",
      "Name: internet, dtype: int64\n",
      "count     355\n",
      "unique      2\n",
      "top       yes\n",
      "freq      302\n",
      "Name: internet, dtype: object\n",
      "ALL_COUNT:389\n"
     ]
    },
    {
     "data": {
      "image/png": "[encoded data removed]",
      "text/plain": [
       "<Figure size 432x288 with 1 Axes>"
      ]
     },
     "metadata": {
      "needs_background": "light"
     },
     "output_type": "display_data"
    }
   ],
   "source": [
    "# internet\n",
    "describe_column(students.internet)"
   ]
  },
  {
   "cell_type": "code",
   "execution_count": 48,
   "metadata": {},
   "outputs": [],
   "source": [
    "# Распределение дискретное с двумя состояниями. Выбросов нет\n",
    "# 389-332 = 57 пустых значений, что составляет около 15%.\n",
    "# Большая часть учеников имеет дома Интернет (85%)"
   ]
  },
  {
   "cell_type": "code",
   "execution_count": 49,
   "metadata": {},
   "outputs": [
    {
     "name": "stdout",
     "output_type": "stream",
     "text": [
      "no     236\n",
      "yes    122\n",
      "Name: romantic, dtype: int64\n",
      "count     358\n",
      "unique      2\n",
      "top        no\n",
      "freq      236\n",
      "Name: romantic, dtype: object\n",
      "ALL_COUNT:389\n"
     ]
    },
    {
     "data": {
      "image/png": "[encoded data removed]",
      "text/plain": [
       "<Figure size 432x288 with 1 Axes>"
      ]
     },
     "metadata": {
      "needs_background": "light"
     },
     "output_type": "display_data"
    }
   ],
   "source": [
    "# romantic\n",
    "describe_column(students.romantic)"
   ]
  },
  {
   "cell_type": "code",
   "execution_count": 50,
   "metadata": {},
   "outputs": [],
   "source": [
    "# Распределение дискретное с двумя состояниями. Выбросов нет\n",
    "# 389-337 = 52 пустых значения, что составляет около 13,5%.\n",
    "# Соотношения частот 66/34%."
   ]
  },
  {
   "cell_type": "code",
   "execution_count": 51,
   "metadata": {},
   "outputs": [
    {
     "name": "stdout",
     "output_type": "stream",
     "text": [
      " 4.0    182\n",
      " 5.0     93\n",
      " 3.0     62\n",
      " 2.0     17\n",
      " 1.0      7\n",
      "-1.0      1\n",
      "Name: famrel, dtype: int64\n",
      "count    362.000000\n",
      "mean       3.919890\n",
      "std        0.924695\n",
      "min       -1.000000\n",
      "25%        4.000000\n",
      "50%        4.000000\n",
      "75%        5.000000\n",
      "max        5.000000\n",
      "Name: famrel, dtype: float64\n",
      "ALL_COUNT:389\n"
     ]
    },
    {
     "data": {
      "image/png": "[encoded data removed]",
      "text/plain": [
       "<Figure size 432x288 with 1 Axes>"
      ]
     },
     "metadata": {
      "needs_background": "light"
     },
     "output_type": "display_data"
    }
   ],
   "source": [
    "# famrel\n",
    "describe_column(students.famrel)"
   ]
  },
  {
   "cell_type": "code",
   "execution_count": 52,
   "metadata": {},
   "outputs": [
    {
     "name": "stdout",
     "output_type": "stream",
     "text": [
      "4.0    182\n",
      "5.0     93\n",
      "3.0     62\n",
      "2.0     17\n",
      "1.0      7\n",
      "Name: famrel, dtype: int64\n",
      "count    361.000000\n",
      "mean       3.933518\n",
      "std        0.888826\n",
      "min        1.000000\n",
      "25%        4.000000\n",
      "50%        4.000000\n",
      "75%        5.000000\n",
      "max        5.000000\n",
      "Name: famrel, dtype: float64\n",
      "ALL_COUNT:388\n"
     ]
    },
    {
     "data": {
      "image/png": "[encoded data removed]",
      "text/plain": [
       "<Figure size 432x288 with 1 Axes>"
      ]
     },
     "metadata": {
      "needs_background": "light"
     },
     "output_type": "display_data"
    }
   ],
   "source": [
    "# есть выброс (-1), уберём его\n",
    "students = students.loc[students.famrel != -1]\n",
    "describe_column(students.famrel)"
   ]
  },
  {
   "cell_type": "code",
   "execution_count": 53,
   "metadata": {},
   "outputs": [],
   "source": [
    "# Распределение дискретное.\n",
    "# 388-340 = 48 пустых значений, что составляет около 12%.\n",
    "# Распределение похоже на нормальное с наибольшей частотой 4. Отношения в семье больше хорошие."
   ]
  },
  {
   "cell_type": "code",
   "execution_count": 54,
   "metadata": {},
   "outputs": [
    {
     "name": "stdout",
     "output_type": "stream",
     "text": [
      "3.0    153\n",
      "4.0    110\n",
      "2.0     61\n",
      "5.0     35\n",
      "1.0     18\n",
      "Name: freetime, dtype: int64\n",
      "count    377.000000\n",
      "mean       3.220159\n",
      "std        0.984895\n",
      "min        1.000000\n",
      "25%        3.000000\n",
      "50%        3.000000\n",
      "75%        4.000000\n",
      "max        5.000000\n",
      "Name: freetime, dtype: float64\n",
      "ALL_COUNT:388\n"
     ]
    },
    {
     "data": {
      "image/png": "[encoded data removed]",
      "text/plain": [
       "<Figure size 432x288 with 1 Axes>"
      ]
     },
     "metadata": {
      "needs_background": "light"
     },
     "output_type": "display_data"
    }
   ],
   "source": [
    "# freetime\n",
    "describe_column(students.freetime)"
   ]
  },
  {
   "cell_type": "code",
   "execution_count": 55,
   "metadata": {},
   "outputs": [],
   "source": [
    "# Распределение дискретное. выбросов нет.\n",
    "# 388-331 = 57 пустых значений, что составляет около 15%.\n",
    "# Распределение похоже на нормальное с наибольшей частотой 3."
   ]
  },
  {
   "cell_type": "code",
   "execution_count": 56,
   "metadata": {},
   "outputs": [
    {
     "name": "stdout",
     "output_type": "stream",
     "text": [
      "3.0    124\n",
      "2.0     99\n",
      "4.0     83\n",
      "5.0     51\n",
      "1.0     23\n",
      "Name: goout, dtype: int64\n",
      "count    380.000000\n",
      "mean       3.105263\n",
      "std        1.118081\n",
      "min        1.000000\n",
      "25%        2.000000\n",
      "50%        3.000000\n",
      "75%        4.000000\n",
      "max        5.000000\n",
      "Name: goout, dtype: float64\n",
      "ALL_COUNT:388\n"
     ]
    },
    {
     "data": {
      "image/png": "[encoded data removed]",
      "text/plain": [
       "<Figure size 432x288 with 1 Axes>"
      ]
     },
     "metadata": {
      "needs_background": "light"
     },
     "output_type": "display_data"
    }
   ],
   "source": [
    "# goout\n",
    "describe_column(students.goout)"
   ]
  },
  {
   "cell_type": "code",
   "execution_count": 57,
   "metadata": {},
   "outputs": [],
   "source": [
    "# Распределение дискретное. выбросов нет.\n",
    "# 388-332 = 56 пустых значений, что составляет около 15%.\n",
    "# Распределение похоже на нормальное с наибольшей частотой 3.\n",
    "# Похоже, что столбец коррелирует с предыдущим столбцом."
   ]
  },
  {
   "cell_type": "code",
   "execution_count": 58,
   "metadata": {},
   "outputs": [
    {
     "name": "stdout",
     "output_type": "stream",
     "text": [
      "5.0    136\n",
      "3.0     87\n",
      "4.0     61\n",
      "1.0     46\n",
      "2.0     43\n",
      "Name: health, dtype: int64\n",
      "count    373.000000\n",
      "mean       3.530831\n",
      "std        1.397863\n",
      "min        1.000000\n",
      "25%        3.000000\n",
      "50%        4.000000\n",
      "75%        5.000000\n",
      "max        5.000000\n",
      "Name: health, dtype: float64\n",
      "ALL_COUNT:388\n"
     ]
    },
    {
     "data": {
      "image/png": "[encoded data removed]",
      "text/plain": [
       "<Figure size 432x288 with 1 Axes>"
      ]
     },
     "metadata": {
      "needs_background": "light"
     },
     "output_type": "display_data"
    }
   ],
   "source": [
    "# health\n",
    "describe_column(students.health)"
   ]
  },
  {
   "cell_type": "code",
   "execution_count": 59,
   "metadata": {},
   "outputs": [],
   "source": [
    "# Распределение дискретное. выбросов нет.\n",
    "# 388-327 = 61 пустое значение, что составляет около 16%.\n",
    "# несущественных категорий нет."
   ]
  },
  {
   "cell_type": "code",
   "execution_count": 60,
   "metadata": {},
   "outputs": [
    {
     "name": "stdout",
     "output_type": "stream",
     "text": [
      "0.0      110\n",
      "2.0       60\n",
      "4.0       51\n",
      "6.0       31\n",
      "8.0       21\n",
      "10.0      17\n",
      "12.0      12\n",
      "14.0      11\n",
      "3.0        7\n",
      "16.0       6\n",
      "7.0        6\n",
      "18.0       5\n",
      "5.0        5\n",
      "20.0       4\n",
      "22.0       3\n",
      "1.0        3\n",
      "9.0        3\n",
      "11.0       2\n",
      "13.0       2\n",
      "15.0       2\n",
      "25.0       1\n",
      "54.0       1\n",
      "385.0      1\n",
      "26.0       1\n",
      "56.0       1\n",
      "24.0       1\n",
      "17.0       1\n",
      "21.0       1\n",
      "75.0       1\n",
      "30.0       1\n",
      "19.0       1\n",
      "38.0       1\n",
      "40.0       1\n",
      "23.0       1\n",
      "28.0       1\n",
      "Name: absences, dtype: int64\n",
      "count    376.000000\n",
      "mean       6.742021\n",
      "std       21.172433\n",
      "min        0.000000\n",
      "25%        0.000000\n",
      "50%        4.000000\n",
      "75%        8.000000\n",
      "max      385.000000\n",
      "Name: absences, dtype: float64\n",
      "ALL_COUNT:388\n"
     ]
    },
    {
     "data": {
      "image/png": "[encoded data removed]",
      "text/plain": [
       "<Figure size 432x288 with 1 Axes>"
      ]
     },
     "metadata": {
      "needs_background": "light"
     },
     "output_type": "display_data"
    }
   ],
   "source": [
    "# absences\n",
    "describe_column(students.absences)"
   ]
  },
  {
   "cell_type": "code",
   "execution_count": 61,
   "metadata": {},
   "outputs": [
    {
     "name": "stdout",
     "output_type": "stream",
     "text": [
      "0.0     110\n",
      "2.0      60\n",
      "4.0      51\n",
      "6.0      31\n",
      "8.0      21\n",
      "10.0     17\n",
      "12.0     12\n",
      "14.0     11\n",
      "3.0       7\n",
      "16.0      6\n",
      "7.0       6\n",
      "18.0      5\n",
      "5.0       5\n",
      "20.0      4\n",
      "1.0       3\n",
      "9.0       3\n",
      "11.0      2\n",
      "13.0      2\n",
      "15.0      2\n",
      "19.0      1\n",
      "17.0      1\n",
      "Name: absences, dtype: int64\n",
      "count    360.000000\n",
      "mean       4.566667\n",
      "std        4.938733\n",
      "min        0.000000\n",
      "25%        0.000000\n",
      "50%        3.500000\n",
      "75%        7.000000\n",
      "max       20.000000\n",
      "Name: absences, dtype: float64\n",
      "ALL_COUNT:372\n"
     ]
    },
    {
     "data": {
      "image/png": "[encoded data removed]",
      "text/plain": [
       "<Figure size 432x288 with 1 Axes>"
      ]
     },
     "metadata": {
      "needs_background": "light"
     },
     "output_type": "display_data"
    }
   ],
   "source": [
    "# есть выброс (385) , нужно ограничить сверху q75 + 1.5 * IQT( < 8 + 1.5 * 8 = 20)\n",
    "#print((students.absences > 20).sum())\n",
    "students.absences = students.absences.apply(\n",
    "    lambda x: 100500 if (not math.isnan(x) and (x > 20)) else x)\n",
    "students = students.loc[students.absences != 100500]\n",
    "describe_column(students.absences)"
   ]
  },
  {
   "cell_type": "code",
   "execution_count": 62,
   "metadata": {},
   "outputs": [],
   "source": [
    "# Распределение дискретное.\n",
    "# 372-360 = 12 пустых значений, что составляет около 3%.\n",
    "# Частота отутствий убывает с увеличением их количества."
   ]
  },
  {
   "cell_type": "code",
   "execution_count": 63,
   "metadata": {},
   "outputs": [
    {
     "name": "stdout",
     "output_type": "stream",
     "text": [
      "50.0     54\n",
      "55.0     42\n",
      "0.0      37\n",
      "75.0     32\n",
      "65.0     30\n",
      "60.0     30\n",
      "70.0     27\n",
      "40.0     26\n",
      "45.0     23\n",
      "80.0     16\n",
      "30.0     14\n",
      "90.0      9\n",
      "35.0      8\n",
      "25.0      7\n",
      "95.0      5\n",
      "85.0      5\n",
      "100.0     1\n",
      "Name: score, dtype: int64\n",
      "count    366.000000\n",
      "mean      52.158470\n",
      "std       23.107539\n",
      "min        0.000000\n",
      "25%       41.250000\n",
      "50%       55.000000\n",
      "75%       70.000000\n",
      "max      100.000000\n",
      "Name: score, dtype: float64\n",
      "ALL_COUNT:372\n"
     ]
    },
    {
     "data": {
      "image/png": "[encoded data removed]",
      "text/plain": [
       "<Figure size 432x288 with 1 Axes>"
      ]
     },
     "metadata": {
      "needs_background": "light"
     },
     "output_type": "display_data"
    }
   ],
   "source": [
    "# score\n",
    "describe_column(students.score)"
   ]
  },
  {
   "cell_type": "code",
   "execution_count": 64,
   "metadata": {},
   "outputs": [],
   "source": [
    "# Выбросов нет, но очень странное занчение 0 (может ео отбросить?).\n",
    "# Без 0 похоже на нормальное с максимальной частотой 55.\n",
    "# 372-366 = 6 пустых значений, что составляет около 1.5%."
   ]
  },
  {
   "cell_type": "code",
   "execution_count": 65,
   "metadata": {},
   "outputs": [
    {
     "name": "stdout",
     "output_type": "stream",
     "text": [
      "-6.0     183\n",
      "-3.0      95\n",
      "-9.0      60\n",
      "-12.0     27\n",
      "Name: studytime, granular, dtype: int64\n",
      "count    365.000000\n",
      "mean      -6.156164\n",
      "std        2.545249\n",
      "min      -12.000000\n",
      "25%       -6.000000\n",
      "50%       -6.000000\n",
      "75%       -3.000000\n",
      "max       -3.000000\n",
      "Name: studytime, granular, dtype: float64\n",
      "ALL_COUNT:372\n"
     ]
    },
    {
     "data": {
      "image/png": "[encoded data removed]",
      "text/plain": [
       "<Figure size 432x288 with 1 Axes>"
      ]
     },
     "metadata": {
      "needs_background": "light"
     },
     "output_type": "display_data"
    }
   ],
   "source": [
    "#'studytime, granular'\n",
    "describe_column(students['studytime, granular'])"
   ]
  },
  {
   "cell_type": "code",
   "execution_count": 66,
   "metadata": {},
   "outputs": [],
   "source": [
    "# Дискретное распределение (похоже на распределение со значениями 1,2,3,4 умноженными на -3)\n",
    "# Выбросов нет\n",
    "# 372-365 = 7 пустых значений, что составляет около 1.5%."
   ]
  },
  {
   "cell_type": "code",
   "execution_count": 67,
   "metadata": {},
   "outputs": [
    {
     "data": {
      "text/html": [
       "<div>\n",
       "<style scoped>\n",
       "    .dataframe tbody tr th:only-of-type {\n",
       "        vertical-align: middle;\n",
       "    }\n",
       "\n",
       "    .dataframe tbody tr th {\n",
       "        vertical-align: top;\n",
       "    }\n",
       "\n",
       "    .dataframe thead th {\n",
       "        text-align: right;\n",
       "    }\n",
       "</style>\n",
       "<table border=\"1\" class=\"dataframe\">\n",
       "  <thead>\n",
       "    <tr style=\"text-align: right;\">\n",
       "      <th></th>\n",
       "      <th>age</th>\n",
       "      <th>Medu</th>\n",
       "      <th>Fedu</th>\n",
       "      <th>traveltime</th>\n",
       "      <th>studytime</th>\n",
       "      <th>failures</th>\n",
       "      <th>studytime, granular</th>\n",
       "      <th>famrel</th>\n",
       "      <th>freetime</th>\n",
       "      <th>goout</th>\n",
       "      <th>health</th>\n",
       "      <th>absences</th>\n",
       "      <th>score</th>\n",
       "    </tr>\n",
       "  </thead>\n",
       "  <tbody>\n",
       "    <tr>\n",
       "      <th>age</th>\n",
       "      <td>1.000000</td>\n",
       "      <td>-0.193682</td>\n",
       "      <td>-0.153219</td>\n",
       "      <td>0.113144</td>\n",
       "      <td>0.019155</td>\n",
       "      <td>0.140616</td>\n",
       "      <td>-0.019155</td>\n",
       "      <td>0.020253</td>\n",
       "      <td>0.003230</td>\n",
       "      <td>0.138418</td>\n",
       "      <td>-0.044261</td>\n",
       "      <td>0.149176</td>\n",
       "      <td>-0.181578</td>\n",
       "    </tr>\n",
       "    <tr>\n",
       "      <th>Medu</th>\n",
       "      <td>-0.193682</td>\n",
       "      <td>1.000000</td>\n",
       "      <td>0.633148</td>\n",
       "      <td>-0.189928</td>\n",
       "      <td>0.091920</td>\n",
       "      <td>-0.262809</td>\n",
       "      <td>-0.091920</td>\n",
       "      <td>-0.018610</td>\n",
       "      <td>0.044148</td>\n",
       "      <td>0.050585</td>\n",
       "      <td>-0.039361</td>\n",
       "      <td>0.068467</td>\n",
       "      <td>0.216093</td>\n",
       "    </tr>\n",
       "    <tr>\n",
       "      <th>Fedu</th>\n",
       "      <td>-0.153219</td>\n",
       "      <td>0.633148</td>\n",
       "      <td>1.000000</td>\n",
       "      <td>-0.164808</td>\n",
       "      <td>0.005907</td>\n",
       "      <td>-0.272254</td>\n",
       "      <td>-0.005907</td>\n",
       "      <td>-0.017897</td>\n",
       "      <td>0.001306</td>\n",
       "      <td>0.048565</td>\n",
       "      <td>0.019017</td>\n",
       "      <td>-0.012545</td>\n",
       "      <td>0.127299</td>\n",
       "    </tr>\n",
       "    <tr>\n",
       "      <th>traveltime</th>\n",
       "      <td>0.113144</td>\n",
       "      <td>-0.189928</td>\n",
       "      <td>-0.164808</td>\n",
       "      <td>1.000000</td>\n",
       "      <td>-0.110733</td>\n",
       "      <td>0.093038</td>\n",
       "      <td>0.110733</td>\n",
       "      <td>-0.030534</td>\n",
       "      <td>0.000200</td>\n",
       "      <td>0.038197</td>\n",
       "      <td>-0.022651</td>\n",
       "      <td>-0.042485</td>\n",
       "      <td>-0.074656</td>\n",
       "    </tr>\n",
       "    <tr>\n",
       "      <th>studytime</th>\n",
       "      <td>0.019155</td>\n",
       "      <td>0.091920</td>\n",
       "      <td>0.005907</td>\n",
       "      <td>-0.110733</td>\n",
       "      <td>1.000000</td>\n",
       "      <td>-0.170114</td>\n",
       "      <td>-1.000000</td>\n",
       "      <td>0.031750</td>\n",
       "      <td>-0.124409</td>\n",
       "      <td>-0.034984</td>\n",
       "      <td>-0.088388</td>\n",
       "      <td>-0.069020</td>\n",
       "      <td>0.118255</td>\n",
       "    </tr>\n",
       "    <tr>\n",
       "      <th>failures</th>\n",
       "      <td>0.140616</td>\n",
       "      <td>-0.262809</td>\n",
       "      <td>-0.272254</td>\n",
       "      <td>0.093038</td>\n",
       "      <td>-0.170114</td>\n",
       "      <td>1.000000</td>\n",
       "      <td>0.170114</td>\n",
       "      <td>-0.022883</td>\n",
       "      <td>0.069383</td>\n",
       "      <td>0.101169</td>\n",
       "      <td>0.121257</td>\n",
       "      <td>0.052202</td>\n",
       "      <td>-0.358621</td>\n",
       "    </tr>\n",
       "    <tr>\n",
       "      <th>studytime, granular</th>\n",
       "      <td>-0.019155</td>\n",
       "      <td>-0.091920</td>\n",
       "      <td>-0.005907</td>\n",
       "      <td>0.110733</td>\n",
       "      <td>-1.000000</td>\n",
       "      <td>0.170114</td>\n",
       "      <td>1.000000</td>\n",
       "      <td>-0.031750</td>\n",
       "      <td>0.124409</td>\n",
       "      <td>0.034984</td>\n",
       "      <td>0.088388</td>\n",
       "      <td>0.069020</td>\n",
       "      <td>-0.118255</td>\n",
       "    </tr>\n",
       "    <tr>\n",
       "      <th>famrel</th>\n",
       "      <td>0.020253</td>\n",
       "      <td>-0.018610</td>\n",
       "      <td>-0.017897</td>\n",
       "      <td>-0.030534</td>\n",
       "      <td>0.031750</td>\n",
       "      <td>-0.022883</td>\n",
       "      <td>-0.031750</td>\n",
       "      <td>1.000000</td>\n",
       "      <td>0.152144</td>\n",
       "      <td>0.064877</td>\n",
       "      <td>0.095951</td>\n",
       "      <td>-0.078070</td>\n",
       "      <td>0.058454</td>\n",
       "    </tr>\n",
       "    <tr>\n",
       "      <th>freetime</th>\n",
       "      <td>0.003230</td>\n",
       "      <td>0.044148</td>\n",
       "      <td>0.001306</td>\n",
       "      <td>0.000200</td>\n",
       "      <td>-0.124409</td>\n",
       "      <td>0.069383</td>\n",
       "      <td>0.124409</td>\n",
       "      <td>0.152144</td>\n",
       "      <td>1.000000</td>\n",
       "      <td>0.278614</td>\n",
       "      <td>0.060114</td>\n",
       "      <td>0.104422</td>\n",
       "      <td>0.035836</td>\n",
       "    </tr>\n",
       "    <tr>\n",
       "      <th>goout</th>\n",
       "      <td>0.138418</td>\n",
       "      <td>0.050585</td>\n",
       "      <td>0.048565</td>\n",
       "      <td>0.038197</td>\n",
       "      <td>-0.034984</td>\n",
       "      <td>0.101169</td>\n",
       "      <td>0.034984</td>\n",
       "      <td>0.064877</td>\n",
       "      <td>0.278614</td>\n",
       "      <td>1.000000</td>\n",
       "      <td>0.007246</td>\n",
       "      <td>0.107291</td>\n",
       "      <td>-0.111050</td>\n",
       "    </tr>\n",
       "    <tr>\n",
       "      <th>health</th>\n",
       "      <td>-0.044261</td>\n",
       "      <td>-0.039361</td>\n",
       "      <td>0.019017</td>\n",
       "      <td>-0.022651</td>\n",
       "      <td>-0.088388</td>\n",
       "      <td>0.121257</td>\n",
       "      <td>0.088388</td>\n",
       "      <td>0.095951</td>\n",
       "      <td>0.060114</td>\n",
       "      <td>0.007246</td>\n",
       "      <td>1.000000</td>\n",
       "      <td>-0.005739</td>\n",
       "      <td>-0.079360</td>\n",
       "    </tr>\n",
       "    <tr>\n",
       "      <th>absences</th>\n",
       "      <td>0.149176</td>\n",
       "      <td>0.068467</td>\n",
       "      <td>-0.012545</td>\n",
       "      <td>-0.042485</td>\n",
       "      <td>-0.069020</td>\n",
       "      <td>0.052202</td>\n",
       "      <td>0.069020</td>\n",
       "      <td>-0.078070</td>\n",
       "      <td>0.104422</td>\n",
       "      <td>0.107291</td>\n",
       "      <td>-0.005739</td>\n",
       "      <td>1.000000</td>\n",
       "      <td>0.093247</td>\n",
       "    </tr>\n",
       "    <tr>\n",
       "      <th>score</th>\n",
       "      <td>-0.181578</td>\n",
       "      <td>0.216093</td>\n",
       "      <td>0.127299</td>\n",
       "      <td>-0.074656</td>\n",
       "      <td>0.118255</td>\n",
       "      <td>-0.358621</td>\n",
       "      <td>-0.118255</td>\n",
       "      <td>0.058454</td>\n",
       "      <td>0.035836</td>\n",
       "      <td>-0.111050</td>\n",
       "      <td>-0.079360</td>\n",
       "      <td>0.093247</td>\n",
       "      <td>1.000000</td>\n",
       "    </tr>\n",
       "  </tbody>\n",
       "</table>\n",
       "</div>"
      ],
      "text/plain": [
       "                          age      Medu      Fedu  traveltime  studytime  \\\n",
       "age                  1.000000 -0.193682 -0.153219    0.113144   0.019155   \n",
       "Medu                -0.193682  1.000000  0.633148   -0.189928   0.091920   \n",
       "Fedu                -0.153219  0.633148  1.000000   -0.164808   0.005907   \n",
       "traveltime           0.113144 -0.189928 -0.164808    1.000000  -0.110733   \n",
       "studytime            0.019155  0.091920  0.005907   -0.110733   1.000000   \n",
       "failures             0.140616 -0.262809 -0.272254    0.093038  -0.170114   \n",
       "studytime, granular -0.019155 -0.091920 -0.005907    0.110733  -1.000000   \n",
       "famrel               0.020253 -0.018610 -0.017897   -0.030534   0.031750   \n",
       "freetime             0.003230  0.044148  0.001306    0.000200  -0.124409   \n",
       "goout                0.138418  0.050585  0.048565    0.038197  -0.034984   \n",
       "health              -0.044261 -0.039361  0.019017   -0.022651  -0.088388   \n",
       "absences             0.149176  0.068467 -0.012545   -0.042485  -0.069020   \n",
       "score               -0.181578  0.216093  0.127299   -0.074656   0.118255   \n",
       "\n",
       "                     failures  studytime, granular    famrel  freetime  \\\n",
       "age                  0.140616            -0.019155  0.020253  0.003230   \n",
       "Medu                -0.262809            -0.091920 -0.018610  0.044148   \n",
       "Fedu                -0.272254            -0.005907 -0.017897  0.001306   \n",
       "traveltime           0.093038             0.110733 -0.030534  0.000200   \n",
       "studytime           -0.170114            -1.000000  0.031750 -0.124409   \n",
       "failures             1.000000             0.170114 -0.022883  0.069383   \n",
       "studytime, granular  0.170114             1.000000 -0.031750  0.124409   \n",
       "famrel              -0.022883            -0.031750  1.000000  0.152144   \n",
       "freetime             0.069383             0.124409  0.152144  1.000000   \n",
       "goout                0.101169             0.034984  0.064877  0.278614   \n",
       "health               0.121257             0.088388  0.095951  0.060114   \n",
       "absences             0.052202             0.069020 -0.078070  0.104422   \n",
       "score               -0.358621            -0.118255  0.058454  0.035836   \n",
       "\n",
       "                        goout    health  absences     score  \n",
       "age                  0.138418 -0.044261  0.149176 -0.181578  \n",
       "Medu                 0.050585 -0.039361  0.068467  0.216093  \n",
       "Fedu                 0.048565  0.019017 -0.012545  0.127299  \n",
       "traveltime           0.038197 -0.022651 -0.042485 -0.074656  \n",
       "studytime           -0.034984 -0.088388 -0.069020  0.118255  \n",
       "failures             0.101169  0.121257  0.052202 -0.358621  \n",
       "studytime, granular  0.034984  0.088388  0.069020 -0.118255  \n",
       "famrel               0.064877  0.095951 -0.078070  0.058454  \n",
       "freetime             0.278614  0.060114  0.104422  0.035836  \n",
       "goout                1.000000  0.007246  0.107291 -0.111050  \n",
       "health               0.007246  1.000000 -0.005739 -0.079360  \n",
       "absences             0.107291 -0.005739  1.000000  0.093247  \n",
       "score               -0.111050 -0.079360  0.093247  1.000000  "
      ]
     },
     "execution_count": 67,
     "metadata": {},
     "output_type": "execute_result"
    }
   ],
   "source": [
    "# корреляционный анализ\n",
    "students.corr()"
   ]
  },
  {
   "cell_type": "code",
   "execution_count": 68,
   "metadata": {},
   "outputs": [],
   "source": [
    "# Видна связь между уровнем образования родителей (Fedu и Medu)\n",
    "# столбец 'studytime, granular' по отношению к столбцу studytime является производным и инвертированным (будет исключён)\n",
    "# видны прямые корреляции score/Medu, score/Fedu, Fedu/Medu, age/failures, age/absences, age/goout, age/traveltime\n",
    "#  studytime/score, failures/health, famrel/freetime, freetime/goout\n",
    "# видны обратные корреляции age/Fedu, age/Medu, age/score, Medu/traveltime, Fedu/traveltime, Medu/failures,\n",
    "# Fedu/failures, studytime/failures, studytime/freetime, failures/score, goout/score\n",
    "# большинство столбцов здесь являются фиктивно числовыми (Medu, Fedu, traveltime, studytime, failures, famrel,\n",
    "# goout, health), их пересмотрим ниже ещё раз.\n",
    "# Настоящие числовые - age, absences, score\n",
    "# Из числовых столбцов absences не сильно коррелирует со score"
   ]
  },
  {
   "cell_type": "code",
   "execution_count": 69,
   "metadata": {},
   "outputs": [],
   "source": [
    "students.drop(['studytime, granular'], inplace=True, axis=1)"
   ]
  },
  {
   "cell_type": "code",
   "execution_count": 70,
   "metadata": {},
   "outputs": [
    {
     "data": {
      "image/png": "[encoded data removed]",
      "text/plain": [
       "<Figure size 1008x288 with 1 Axes>"
      ]
     },
     "metadata": {
      "needs_background": "light"
     },
     "output_type": "display_data"
    },
    {
     "data": {
      "image/png": "[encoded data removed]",
      "text/plain": [
       "<Figure size 1008x288 with 1 Axes>"
      ]
     },
     "metadata": {
      "needs_background": "light"
     },
     "output_type": "display_data"
    },
    {
     "data": {
      "image/png": "[encoded data removed]",
      "text/plain": [
       "<Figure size 1008x288 with 1 Axes>"
      ]
     },
     "metadata": {
      "needs_background": "light"
     },
     "output_type": "display_data"
    },
    {
     "data": {
      "image/png": "[encoded data removed]",
      "text/plain": [
       "<Figure size 1008x288 with 1 Axes>"
      ]
     },
     "metadata": {
      "needs_background": "light"
     },
     "output_type": "display_data"
    },
    {
     "data": {
      "image/png": "[encoded data removed]",
      "text/plain": [
       "<Figure size 1008x288 with 1 Axes>"
      ]
     },
     "metadata": {
      "needs_background": "light"
     },
     "output_type": "display_data"
    },
    {
     "data": {
      "image/png": "[encoded data removed]",
      "text/plain": [
       "<Figure size 1008x288 with 1 Axes>"
      ]
     },
     "metadata": {
      "needs_background": "light"
     },
     "output_type": "display_data"
    },
    {
     "data": {
      "image/png": "[encoded data removed]",
      "text/plain": [
       "<Figure size 1008x288 with 1 Axes>"
      ]
     },
     "metadata": {
      "needs_background": "light"
     },
     "output_type": "display_data"
    },
    {
     "data": {
      "image/png": "[encoded data removed]",
      "text/plain": [
       "<Figure size 1008x288 with 1 Axes>"
      ]
     },
     "metadata": {
      "needs_background": "light"
     },
     "output_type": "display_data"
    },
    {
     "data": {
      "image/png": "[encoded data removed]",
      "text/plain": [
       "<Figure size 1008x288 with 1 Axes>"
      ]
     },
     "metadata": {
      "needs_background": "light"
     },
     "output_type": "display_data"
    },
    {
     "data": {
      "image/png": "[encoded data removed]",
      "text/plain": [
       "<Figure size 1008x288 with 1 Axes>"
      ]
     },
     "metadata": {
      "needs_background": "light"
     },
     "output_type": "display_data"
    },
    {
     "data": {
      "image/png": "[encoded data removed]",
      "text/plain": [
       "<Figure size 1008x288 with 1 Axes>"
      ]
     },
     "metadata": {
      "needs_background": "light"
     },
     "output_type": "display_data"
    },
    {
     "data": {
      "image/png": "[encoded data removed]",
      "text/plain": [
       "<Figure size 1008x288 with 1 Axes>"
      ]
     },
     "metadata": {
      "needs_background": "light"
     },
     "output_type": "display_data"
    },
    {
     "data": {
      "image/png": "[encoded data removed]",
      "text/plain": [
       "<Figure size 1008x288 with 1 Axes>"
      ]
     },
     "metadata": {
      "needs_background": "light"
     },
     "output_type": "display_data"
    },
    {
     "data": {
      "image/png": "[encoded data removed]",
      "text/plain": [
       "<Figure size 1008x288 with 1 Axes>"
      ]
     },
     "metadata": {
      "needs_background": "light"
     },
     "output_type": "display_data"
    },
    {
     "data": {
      "image/png": "[encoded data removed]",
      "text/plain": [
       "<Figure size 1008x288 with 1 Axes>"
      ]
     },
     "metadata": {
      "needs_background": "light"
     },
     "output_type": "display_data"
    },
    {
     "data": {
      "image/png": "[encoded data removed]",
      "text/plain": [
       "<Figure size 1008x288 with 1 Axes>"
      ]
     },
     "metadata": {
      "needs_background": "light"
     },
     "output_type": "display_data"
    },
    {
     "data": {
      "image/png": "[encoded data removed]",
      "text/plain": [
       "<Figure size 1008x288 with 1 Axes>"
      ]
     },
     "metadata": {
      "needs_background": "light"
     },
     "output_type": "display_data"
    },
    {
     "data": {
      "image/png": "[encoded data removed]",
      "text/plain": [
       "<Figure size 1008x288 with 1 Axes>"
      ]
     },
     "metadata": {
      "needs_background": "light"
     },
     "output_type": "display_data"
    },
    {
     "data": {
      "image/png": "[encoded data removed]",
      "text/plain": [
       "<Figure size 1008x288 with 1 Axes>"
      ]
     },
     "metadata": {
      "needs_background": "light"
     },
     "output_type": "display_data"
    },
    {
     "data": {
      "image/png": "[encoded data removed]",
      "text/plain": [
       "<Figure size 1008x288 with 1 Axes>"
      ]
     },
     "metadata": {
      "needs_background": "light"
     },
     "output_type": "display_data"
    },
    {
     "data": {
      "image/png": "[encoded data removed]",
      "text/plain": [
       "<Figure size 1008x288 with 1 Axes>"
      ]
     },
     "metadata": {
      "needs_background": "light"
     },
     "output_type": "display_data"
    },
    {
     "data": {
      "image/png": "[encoded data removed]",
      "text/plain": [
       "<Figure size 1008x288 with 1 Axes>"
      ]
     },
     "metadata": {
      "needs_background": "light"
     },
     "output_type": "display_data"
    },
    {
     "data": {
      "image/png": "[encoded data removed]",
      "text/plain": [
       "<Figure size 1008x288 with 1 Axes>"
      ]
     },
     "metadata": {
      "needs_background": "light"
     },
     "output_type": "display_data"
    },
    {
     "data": {
      "image/png": "[encoded data removed]",
      "text/plain": [
       "<Figure size 1008x288 with 1 Axes>"
      ]
     },
     "metadata": {
      "needs_background": "light"
     },
     "output_type": "display_data"
    },
    {
     "data": {
      "image/png": "[encoded data removed]",
      "text/plain": [
       "<Figure size 1008x288 with 1 Axes>"
      ]
     },
     "metadata": {
      "needs_background": "light"
     },
     "output_type": "display_data"
    },
    {
     "data": {
      "image/png": "[encoded data removed]",
      "text/plain": [
       "<Figure size 1008x288 with 1 Axes>"
      ]
     },
     "metadata": {
      "needs_background": "light"
     },
     "output_type": "display_data"
    }
   ],
   "source": [
    "def get_boxplot(column):\n",
    "    fig, ax = plt.subplots(figsize=(14, 4))\n",
    "    sns.boxplot(x=column, y='score',\n",
    "                data=students.loc[students.loc[:, column].isin(\n",
    "                    students.loc[:, column].value_counts().index[:10])],\n",
    "                ax=ax)\n",
    "    plt.xticks(rotation=45)\n",
    "    ax.set_title('Boxplot for ' + column)\n",
    "    plt.show()\n",
    "\n",
    "\n",
    "for c in students.columns:\n",
    "    if not c in ['score', 'age', 'absences']:\n",
    "        get_boxplot(c)"
   ]
  },
  {
   "cell_type": "code",
   "execution_count": 71,
   "metadata": {},
   "outputs": [],
   "source": [
    "# По визуальному анализу графиков сложно сказать, какие столбцы можно отбросить"
   ]
  },
  {
   "cell_type": "code",
   "execution_count": 72,
   "metadata": {},
   "outputs": [],
   "source": [
    "def get_stat_diff(column):\n",
    "    cols = students.loc[:, column].value_counts().index[:0]\n",
    "    combinations_all = list(combinations(cols, 2))\n",
    "    for comb in combinations_all:\n",
    "        if ttest_ind(students.loc[students.loc[:, column] == comb[0], 'score'],\n",
    "                     students.loc[students.loc[:, column] == comb[1], 'score']).pvalue \\\n",
    "                <= 0.05/len(combinations_all):  # Учли поправку Бонферони\n",
    "            print('Найдены статистически значимые различия для колонки', column)\n",
    "            break\n",
    "\n",
    "\n",
    "for c in students.columns:\n",
    "    if not c in ['score', 'age', 'absences']:\n",
    "        get_stat_diff(c)"
   ]
  },
  {
   "cell_type": "code",
   "execution_count": 73,
   "metadata": {},
   "outputs": [],
   "source": [
    "# тест Стьюдента не нашел статистически значимых различий для всех колонок\n",
    "# есть вопрос о применимости теста Стьюдента, т.к. он применяется для выборок с нормальным распределенией,\n",
    "# что в данном случае не соответствует действительности."
   ]
  },
  {
   "cell_type": "markdown",
   "metadata": {},
   "source": [
    "<h2>Выводы<h2>\n",
    "<h3>В результате EDA для анализа влияния условий жизни учащихся в возрасте от 15 до 22 лет на их успеваемость по математике, были получены следующие выводы:\n",
    "<ol>\n",
    "    <li>В данных достаточно мало пустых значений, максимальное количество пропусков в столбцах с информацией о дополнительных платных занятих по математике и о текущем состоянии здоровья (около 16%).</li>\n",
    "   <li> Выбросы найдены только в столбцах с информацией об образовании отца, отношениях в семье и пропусках занятий, что позволяет сделать вывод о том, что данные достаточно чистые.</li>    \n",
    "    <li>Замечено, что учащиеся, живущие в городе, в среднем учатся лучше, чем учащиеся из сельской местности. А так же, что учащиеся, планирующие получать высшее образование, имеют более высокие баллы по математике. </li>\n",
    "    <li>Сложно выделить несколько самых важных параметров, для построения модели в дальнейшем. Я бы предложила обратить внимание на столбцы age, studytime, Medu, higher, address, failures и goout.</li>\n",
    "    </ol><h3>\n"
   ]
  }
 ],
 "metadata": {
  "kernelspec": {
   "display_name": "Python 3",
   "language": "python",
   "name": "python3"
  },
  "language_info": {
   "codemirror_mode": {
    "name": "ipython",
    "version": 3
   },
   "file_extension": ".py",
   "mimetype": "text/x-python",
   "name": "python",
   "nbconvert_exporter": "python",
   "pygments_lexer": "ipython3",
   "version": "3.8.5"
  }
 },
 "nbformat": 4,
 "nbformat_minor": 4
}
